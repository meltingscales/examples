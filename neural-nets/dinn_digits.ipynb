{
 "cells": [
  {
   "cell_type": "code",
   "id": "57f1b0aaf284515b",
   "metadata": {
    "collapsed": true,
    "ExecuteTime": {
     "end_time": "2024-08-29T20:41:18.005601Z",
     "start_time": "2024-08-29T20:41:17.757913Z"
    }
   },
   "source": [
    "import tensorflow as tf\n",
    "from tensorflow.keras.datasets import mnist\n",
    "from tensorflow.keras.utils import to_categorical\n",
    "\n",
    "# Load the MNIST dataset\n",
    "(x_train, y_train), (x_test, y_test) = mnist.load_data()\n",
    "\n",
    "# Normalize the images to the range [0, 1]\n",
    "x_train = x_train.astype('float32') / 255.0\n",
    "x_test = x_test.astype('float32') / 255.0\n",
    "\n",
    "# Flatten the 28x28 images into 784-dimensional vectors\n",
    "x_train = x_train.reshape(-1, 28*28)\n",
    "x_test = x_test.reshape(-1, 28*28)\n",
    "\n",
    "# One-hot encode the labels\n",
    "y_train = to_categorical(y_train, 10)\n",
    "y_test = to_categorical(y_test, 10)\n",
    "\n",
    "import tensorflow as tf\n",
    "\n",
    "class DendriticLayer(tf.keras.layers.Layer):\n",
    "    def __init__(self, units=32):\n",
    "        super(DendriticLayer, self).__init__()\n",
    "        self.units = units\n",
    "\n",
    "    def build(self, input_shape):\n",
    "        self.w1 = self.add_weight(shape=(input_shape[-1], self.units),\n",
    "                                  initializer='random_normal',\n",
    "                                  trainable=True)\n",
    "        self.b1 = self.add_weight(shape=(self.units,),\n",
    "                                  initializer='random_normal',\n",
    "                                  trainable=True)\n",
    "        self.w2 = self.add_weight(shape=(input_shape[-1], self.units),\n",
    "                                  initializer='random_normal',\n",
    "                                  trainable=True)\n",
    "        self.b2 = self.add_weight(shape=(self.units,),\n",
    "                                  initializer='random_normal',\n",
    "                                  trainable=True)\n",
    "        self.w3 = self.add_weight(shape=(input_shape[-1], self.units),\n",
    "                                  initializer='random_normal',\n",
    "                                  trainable=True)\n",
    "        self.b3 = self.add_weight(shape=(self.units,),\n",
    "                                  initializer='random_normal',\n",
    "                                  trainable=True)\n",
    "\n",
    "    def call(self, inputs):\n",
    "        # Each branch has the same shape after matmul\n",
    "        branch_1 = tf.sin(tf.matmul(inputs, self.w1) + self.b1) + tf.square(tf.matmul(inputs, self.w1))\n",
    "        branch_2 = tf.cos(tf.matmul(inputs, self.w2) + self.b2) * tf.tanh(tf.matmul(inputs, self.w2))\n",
    "        branch_3 = tf.math.log1p(tf.abs(tf.matmul(inputs, self.w3) + self.b3)) + tf.exp(-tf.abs(tf.matmul(inputs, self.w3)))\n",
    "\n",
    "        # Summing up branches, ensuring the output shape is consistent\n",
    "        integration = tf.reduce_sum(branch_1 + branch_2 + branch_3, axis=1)\n",
    "        return tf.expand_dims(integration, axis=-1)\n",
    "\n",
    "# Example DINN model for MNIST\n",
    "inputs = tf.keras.Input(shape=(28*28,))\n",
    "x = DendriticLayer(units=128)(inputs)\n",
    "x = tf.keras.layers.Flatten()(x)\n",
    "x = tf.keras.layers.Dense(64, activation='relu')(x)\n",
    "outputs = tf.keras.layers.Dense(10, activation='softmax')(x)\n",
    "\n",
    "model = tf.keras.Model(inputs, outputs)"
   ],
   "outputs": [],
   "execution_count": 2
  },
  {
   "metadata": {
    "ExecuteTime": {
     "end_time": "2024-08-29T20:42:40.874011Z",
     "start_time": "2024-08-29T20:41:20.962841Z"
    }
   },
   "cell_type": "code",
   "source": [
    "\n",
    "# Compile the model\n",
    "model.compile(optimizer='adam', loss='categorical_crossentropy', metrics=['accuracy'])\n",
    "\n",
    "# Train the model\n",
    "model.fit(x_train, y_train, epochs=10, batch_size=32, validation_data=(x_test, y_test))\n"
   ],
   "id": "initial_id",
   "outputs": [
    {
     "name": "stdout",
     "output_type": "stream",
     "text": [
      "Epoch 1/10\n",
      "\u001B[1m1875/1875\u001B[0m \u001B[32m━━━━━━━━━━━━━━━━━━━━\u001B[0m\u001B[37m\u001B[0m \u001B[1m9s\u001B[0m 4ms/step - accuracy: 0.2100 - loss: 3.1073 - val_accuracy: 0.5041 - val_loss: 1.2974\n",
      "Epoch 2/10\n",
      "\u001B[1m1875/1875\u001B[0m \u001B[32m━━━━━━━━━━━━━━━━━━━━\u001B[0m\u001B[37m\u001B[0m \u001B[1m7s\u001B[0m 4ms/step - accuracy: 0.5266 - loss: 1.2185 - val_accuracy: 0.5574 - val_loss: 1.1031\n",
      "Epoch 3/10\n",
      "\u001B[1m1875/1875\u001B[0m \u001B[32m━━━━━━━━━━━━━━━━━━━━\u001B[0m\u001B[37m\u001B[0m \u001B[1m8s\u001B[0m 4ms/step - accuracy: 0.6276 - loss: 0.9973 - val_accuracy: 0.6590 - val_loss: 0.9511\n",
      "Epoch 4/10\n",
      "\u001B[1m1875/1875\u001B[0m \u001B[32m━━━━━━━━━━━━━━━━━━━━\u001B[0m\u001B[37m\u001B[0m \u001B[1m7s\u001B[0m 4ms/step - accuracy: 0.6854 - loss: 0.8749 - val_accuracy: 0.6854 - val_loss: 0.9089\n",
      "Epoch 5/10\n",
      "\u001B[1m1875/1875\u001B[0m \u001B[32m━━━━━━━━━━━━━━━━━━━━\u001B[0m\u001B[37m\u001B[0m \u001B[1m8s\u001B[0m 4ms/step - accuracy: 0.7143 - loss: 0.8139 - val_accuracy: 0.7196 - val_loss: 0.8519\n",
      "Epoch 6/10\n",
      "\u001B[1m1875/1875\u001B[0m \u001B[32m━━━━━━━━━━━━━━━━━━━━\u001B[0m\u001B[37m\u001B[0m \u001B[1m8s\u001B[0m 4ms/step - accuracy: 0.7378 - loss: 0.7691 - val_accuracy: 0.7075 - val_loss: 0.8810\n",
      "Epoch 7/10\n",
      "\u001B[1m1875/1875\u001B[0m \u001B[32m━━━━━━━━━━━━━━━━━━━━\u001B[0m\u001B[37m\u001B[0m \u001B[1m8s\u001B[0m 4ms/step - accuracy: 0.7509 - loss: 0.7366 - val_accuracy: 0.7141 - val_loss: 0.8363\n",
      "Epoch 8/10\n",
      "\u001B[1m1875/1875\u001B[0m \u001B[32m━━━━━━━━━━━━━━━━━━━━\u001B[0m\u001B[37m\u001B[0m \u001B[1m8s\u001B[0m 4ms/step - accuracy: 0.7660 - loss: 0.7027 - val_accuracy: 0.7254 - val_loss: 0.8246\n",
      "Epoch 9/10\n",
      "\u001B[1m1875/1875\u001B[0m \u001B[32m━━━━━━━━━━━━━━━━━━━━\u001B[0m\u001B[37m\u001B[0m \u001B[1m8s\u001B[0m 4ms/step - accuracy: 0.7788 - loss: 0.6629 - val_accuracy: 0.7404 - val_loss: 0.7817\n",
      "Epoch 10/10\n",
      "\u001B[1m1875/1875\u001B[0m \u001B[32m━━━━━━━━━━━━━━━━━━━━\u001B[0m\u001B[37m\u001B[0m \u001B[1m8s\u001B[0m 4ms/step - accuracy: 0.7896 - loss: 0.6390 - val_accuracy: 0.7248 - val_loss: 0.8112\n"
     ]
    },
    {
     "data": {
      "text/plain": [
       "<keras.src.callbacks.history.History at 0x7f063da930b0>"
      ]
     },
     "execution_count": 3,
     "metadata": {},
     "output_type": "execute_result"
    }
   ],
   "execution_count": 3
  },
  {
   "metadata": {
    "ExecuteTime": {
     "end_time": "2024-08-29T20:42:44.505724Z",
     "start_time": "2024-08-29T20:42:40.876135Z"
    }
   },
   "cell_type": "code",
   "source": [
    "\n",
    "# Evaluate the model\n",
    "test_loss, test_acc = model.evaluate(x_test, y_test)\n",
    "print(f'Test accuracy: {test_acc}')\n",
    "\n",
    "# Make predictions on the test set\n",
    "predictions = model.predict(x_test)\n",
    "predicted_classes = tf.argmax(predictions, axis=1).numpy()\n",
    "true_classes = tf.argmax(y_test, axis=1).numpy()\n",
    "\n",
    "\n",
    "import matplotlib.pyplot as plt\n",
    "\n",
    "# Function to plot a few examples with predictions\n",
    "def plot_examples(x_test, true_classes, predicted_classes, num_examples=10):\n",
    "    plt.figure(figsize=(12, 8))\n",
    "    for i in range(num_examples):\n",
    "        plt.subplot(2, 5, i + 1)\n",
    "        plt.imshow(x_test[i].reshape(28, 28), cmap='gray')\n",
    "        plt.title(f\"True: {true_classes[i]}\\nPredicted: {predicted_classes[i]}\")\n",
    "        plt.axis('off')\n",
    "    plt.show()\n",
    "\n",
    "# Plot the first 10 examples from the test set\n",
    "plot_examples(x_test, true_classes, predicted_classes)\n"
   ],
   "id": "818d9636ac5eb56c",
   "outputs": [
    {
     "name": "stdout",
     "output_type": "stream",
     "text": [
      "\u001B[1m313/313\u001B[0m \u001B[32m━━━━━━━━━━━━━━━━━━━━\u001B[0m\u001B[37m\u001B[0m \u001B[1m1s\u001B[0m 3ms/step - accuracy: 0.7066 - loss: 0.8782\n",
      "Test accuracy: 0.7247999906539917\n",
      "\u001B[1m313/313\u001B[0m \u001B[32m━━━━━━━━━━━━━━━━━━━━\u001B[0m\u001B[37m\u001B[0m \u001B[1m1s\u001B[0m 2ms/step\n"
     ]
    },
    {
     "data": {
      "text/plain": [
       "<Figure size 1200x800 with 10 Axes>"
      ],
      "image/png": "[encoded data removed]"
     },
     "metadata": {},
     "output_type": "display_data"
    }
   ],
   "execution_count": 4
  }
 ],
 "metadata": {
  "kernelspec": {
   "display_name": "Python 3",
   "language": "python",
   "name": "python3"
  },
  "language_info": {
   "codemirror_mode": {
    "name": "ipython",
    "version": 2
   },
   "file_extension": ".py",
   "mimetype": "text/x-python",
   "name": "python",
   "nbconvert_exporter": "python",
   "pygments_lexer": "ipython2",
   "version": "2.7.6"
  }
 },
 "nbformat": 4,
 "nbformat_minor": 5
}
