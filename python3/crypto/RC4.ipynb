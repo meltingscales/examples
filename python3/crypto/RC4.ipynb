{
 "cells": [
  {
   "cell_type": "code",
   "id": "initial_id",
   "metadata": {
    "collapsed": true,
    "ExecuteTime": {
     "end_time": "2024-10-02T20:55:23.610889Z",
     "start_time": "2024-10-02T20:55:23.608356Z"
    }
   },
   "source": [
    ""
   ],
   "outputs": [],
   "execution_count": null
  },
  {
   "metadata": {
    "ExecuteTime": {
     "end_time": "2024-10-02T20:55:41.635270Z",
     "start_time": "2024-10-02T20:55:36.162795Z"
    }
   },
   "cell_type": "code",
   "source": [
    "import matplotlib.pyplot as plt\n",
    "import numpy as np\n",
    "\n",
    "def visualize_rc4_ksa(key, iterations=10):\n",
    "    \"\"\"\n",
    "    Visualize the first 'iterations' steps of the Key Scheduling Algorithm (KSA) of RC4.\n",
    "    \n",
    "    :param key: List representing the key used in the RC4 algorithm (array of integers).\n",
    "    :param iterations: The number of steps to visualize (default is 10).\n",
    "    \"\"\"\n",
    "    # Initialize the state array S\n",
    "    S = list(range(256))\n",
    "    j = 0\n",
    "    n = len(key)\n",
    "    \n",
    "    fig, ax = plt.subplots()\n",
    "    \n",
    "    def draw_state(S, i, j, step):\n",
    "        ax.clear()\n",
    "        ax.set_xlim(-1, min(iterations, 10) + 1)  # Display up to 10 elements or less if fewer iterations are chosen\n",
    "        ax.set_ylim(-1, 2)\n",
    "        ax.set_axis_off()\n",
    "\n",
    "        # Draw the first 10 elements of the state array S[]\n",
    "        for index in range(min(iterations, 10)):\n",
    "            ax.add_patch(plt.Rectangle((index, 0), 1, 1, fill=None, edgecolor='black'))\n",
    "            ax.text(index + 0.5, 0.5, f\"{S[index]}\", horizontalalignment='center', verticalalignment='center', fontsize=8)\n",
    "\n",
    "        # Highlight i and j\n",
    "        if i < 10:\n",
    "            ax.add_patch(plt.Rectangle((i, 0), 1, 1, fill=None, edgecolor='red'))\n",
    "            ax.text(i + 0.5, 1.5, f\"i={i}\", horizontalalignment='center', color='red', fontsize=10)\n",
    "\n",
    "        if j < 10:\n",
    "            ax.add_patch(plt.Rectangle((j, 0), 1, 1, fill=None, edgecolor='blue'))\n",
    "            ax.text(j + 0.5, 1.5, f\"j={j}\", horizontalalignment='center', color='blue', fontsize=10)\n",
    "\n",
    "        ax.text(5, -0.5, f\"Step {step}\", fontsize=12, horizontalalignment='center')\n",
    "\n",
    "        plt.pause(0.5)\n",
    "\n",
    "    # Start the KSA process and visualize the specified number of iterations\n",
    "    for i in range(iterations):\n",
    "        j = (j + S[i] + key[i % n]) % 256\n",
    "        S[i], S[j] = S[j], S[i]  # Swap S[i] and S[j]\n",
    "        draw_state(S, i, j, i+1)\n",
    "\n",
    "    plt.show()\n",
    "\n",
    "# Example usage:\n",
    "key = [1, 2, 3, 4, 5]  # Example key\n",
    "iterations = 10  # Specify how many iterations you want to visualize\n",
    "visualize_rc4_ksa(key, iterations)\n"
   ],
   "id": "3fead2e0a32a9fa1",
   "outputs": [
    {
     "data": {
      "text/plain": [
       "<Figure size 640x480 with 1 Axes>"
      ],
      "image/png": "[encoded data removed]"
     },
     "metadata": {},
     "output_type": "display_data"
    }
   ],
   "execution_count": 3
  },
  {
   "metadata": {
    "ExecuteTime": {
     "end_time": "2024-10-02T20:55:28.994204Z",
     "start_time": "2024-10-02T20:55:28.988608Z"
    }
   },
   "cell_type": "code",
   "source": "",
   "id": "d903861c837e786",
   "outputs": [],
   "execution_count": null
  }
 ],
 "metadata": {
  "kernelspec": {
   "display_name": "Python 3",
   "language": "python",
   "name": "python3"
  },
  "language_info": {
   "codemirror_mode": {
    "name": "ipython",
    "version": 2
   },
   "file_extension": ".py",
   "mimetype": "text/x-python",
   "name": "python",
   "nbconvert_exporter": "python",
   "pygments_lexer": "ipython2",
   "version": "2.7.6"
  }
 },
 "nbformat": 4,
 "nbformat_minor": 5
}
