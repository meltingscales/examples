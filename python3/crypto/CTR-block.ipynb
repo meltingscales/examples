{
 "cells": [
  {
   "metadata": {
    "ExecuteTime": {
     "end_time": "2024-10-18T03:37:00.927655Z",
     "start_time": "2024-10-18T03:37:00.918404Z"
    }
   },
   "cell_type": "code",
   "source": [
    "def block_cipher_E(block):\n",
    "    # The block cipher simply rotates the input (abcd -> bcda)\n",
    "    return block[1:] + block[:1]\n",
    "\n",
    "def xor_blocks(block1, block2):\n",
    "    # XOR two blocks of equal length\n",
    "    return ''.join([str(int(b1) ^ int(b2)) for b1, b2 in zip(block1, block2)])\n",
    "\n",
    "def ctr_mode_encrypt(plaintext, nonce, block_cipher, block_size=4):\n",
    "    # Split plaintext into blocks\n",
    "    plaintext_blocks = [plaintext[i:i+block_size] for i in range(0, len(plaintext), block_size)]\n",
    "    \n",
    "    ciphertext = ''\n",
    "    counter = 0\n",
    "    for block in plaintext_blocks:\n",
    "        # Generate the counter block by adding counter to the nonce\n",
    "        counter_block = bin(int(nonce, 2) + counter)[2:].zfill(block_size)\n",
    "        \n",
    "        # Encrypt the counter block using the block cipher\n",
    "        encrypted_counter_block = block_cipher(counter_block)\n",
    "        \n",
    "        # XOR the encrypted counter block with the plaintext block\n",
    "        encrypted_block = xor_blocks(block, encrypted_counter_block)\n",
    "        \n",
    "        # Append the resulting ciphertext block\n",
    "        ciphertext += encrypted_block\n",
    "        \n",
    "        # Increment counter\n",
    "        counter += 1\n",
    "    \n",
    "    return ciphertext\n",
    "\n",
    "# Given inputs\n",
    "plaintext = \"00010100\"  # binary representation of plaintext (split into two 4-bit blocks)\n",
    "nonce = \"0011\"  # nonce in binary\n",
    "\n",
    "# Encrypt the plaintext using CTR mode\n",
    "ciphertext = ctr_mode_encrypt(plaintext, nonce, block_cipher_E)\n",
    "\n",
    "print(\"Ciphertext:\", ciphertext)\n"
   ],
   "id": "6459cd5d29be1483",
   "outputs": [
    {
     "name": "stdout",
     "output_type": "stream",
     "text": [
      "Ciphertext: 01111100\n"
     ]
    }
   ],
   "execution_count": 1
  }
 ],
 "metadata": {
  "kernelspec": {
   "display_name": "Python 3",
   "language": "python",
   "name": "python3"
  },
  "language_info": {
   "codemirror_mode": {
    "name": "ipython",
    "version": 2
   },
   "file_extension": ".py",
   "mimetype": "text/x-python",
   "name": "python",
   "nbconvert_exporter": "python",
   "pygments_lexer": "ipython2",
   "version": "2.7.6"
  }
 },
 "nbformat": 4,
 "nbformat_minor": 5
}
