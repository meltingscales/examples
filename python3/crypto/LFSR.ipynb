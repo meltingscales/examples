{
 "cells": [
  {
   "cell_type": "code",
   "id": "initial_id",
   "metadata": {
    "collapsed": true,
    "ExecuteTime": {
     "end_time": "2024-10-02T20:31:18.635602Z",
     "start_time": "2024-10-02T20:31:18.627181Z"
    }
   },
   "source": [
    "def lfsr(seed, taps, length):\n",
    "    \"\"\"\n",
    "    Implements a simple Linear Feedback Shift Register (LFSR).\n",
    "    \n",
    "    :param seed: A list representing the initial state of the register (initial seed).\n",
    "    :param taps: A list of positions to be XOR'ed for the feedback.\n",
    "    :param length: The length of the key stream to generate.\n",
    "    :return: The generated key stream.\n",
    "    \"\"\"\n",
    "    register = seed[:]  # Copy the seed to avoid modifying the original\n",
    "    key_stream = []\n",
    "    \n",
    "    print(f\"Initial state: {register}\")\n",
    "    \n",
    "    for i in range(length):\n",
    "        # XOR the bits at the positions specified in the 'taps' list\n",
    "        new_bit = 0\n",
    "        for tap in taps:\n",
    "            new_bit ^= register[tap]\n",
    "        \n",
    "        # Shift the register to the left and insert the new bit at the end\n",
    "        register = [new_bit] + register[:-1]\n",
    "        \n",
    "        # Append the new bit to the key stream\n",
    "        key_stream.append(register[-1])  # appending the last bit generated\n",
    "\n",
    "        print(f\"Iteration {i+1}: Register = {register}, New bit = {new_bit}\")\n",
    "\n",
    "    return key_stream\n",
    "\n",
    "\n",
    "# Example usage:\n",
    "# Seed: initial values in the LFSR\n",
    "# Taps: which bits to XOR (S_0 and S_3 in this case, corresponding to positions 0 and 3)\n",
    "# Length: how many bits of key stream we want to generate\n",
    "\n",
    "seed = [1, 0, 0, 1]  # Example seed (initial register state)\n",
    "taps = [0, 3]  # We will XOR S_0 and S_3 as per the equation S_4 = S_0 XOR S_3\n",
    "length = 10  # Generate 10 bits in the key stream\n",
    "\n",
    "key_stream = lfsr(seed, taps, length)\n",
    "print(f\"Generated key stream: {key_stream}\")\n"
   ],
   "outputs": [
    {
     "name": "stdout",
     "output_type": "stream",
     "text": [
      "Initial state: [1, 0, 0, 1]\n",
      "Iteration 1: Register = [0, 1, 0, 0], New bit = 0\n",
      "Iteration 2: Register = [0, 0, 1, 0], New bit = 0\n",
      "Iteration 3: Register = [0, 0, 0, 1], New bit = 0\n",
      "Iteration 4: Register = [1, 0, 0, 0], New bit = 1\n",
      "Iteration 5: Register = [1, 1, 0, 0], New bit = 1\n",
      "Iteration 6: Register = [1, 1, 1, 0], New bit = 1\n",
      "Iteration 7: Register = [1, 1, 1, 1], New bit = 1\n",
      "Iteration 8: Register = [0, 1, 1, 1], New bit = 0\n",
      "Iteration 9: Register = [1, 0, 1, 1], New bit = 1\n",
      "Iteration 10: Register = [0, 1, 0, 1], New bit = 0\n",
      "Generated key stream: [0, 0, 1, 0, 0, 0, 1, 1, 1, 1]\n"
     ]
    }
   ],
   "execution_count": 3
  },
  {
   "metadata": {
    "ExecuteTime": {
     "end_time": "2024-10-02T20:32:28.412317Z",
     "start_time": "2024-10-02T20:32:28.406070Z"
    }
   },
   "cell_type": "code",
   "source": [
    "def lfsr_with_var_names(seed, taps, length):\n",
    "    \"\"\"\n",
    "    Implements a simple Linear Feedback Shift Register (LFSR) with detailed variable names printed.\n",
    "    \n",
    "    :param seed: A list representing the initial state of the register (initial seed).\n",
    "    :param taps: A list of positions to be XOR'ed for the feedback.\n",
    "    :param length: The length of the key stream to generate.\n",
    "    :return: The generated key stream.\n",
    "    \"\"\"\n",
    "    register = seed[:]  # Copy the seed to avoid modifying the original\n",
    "    key_stream = []\n",
    "\n",
    "    print(f\"Initial state: s0, s1, s2, s3 = {register}\")\n",
    "    \n",
    "    for i in range(length):\n",
    "        # XOR the bits at the positions specified in the 'taps' list\n",
    "        new_bit = 0\n",
    "        for tap in taps:\n",
    "            new_bit ^= register[tap]\n",
    "            print(f\"e_{i+1} ^= s{tap} -> e_{i+1} = {new_bit}\")\n",
    "\n",
    "        # Shift the register to the left and insert the new bit at the end\n",
    "        print(f\"Generated e_{i+1} = {new_bit}\")\n",
    "        register = [new_bit] + register[:-1]\n",
    "        print(f\"New state: s0, s1, s2, s3 = {register}\")\n",
    "\n",
    "        # Append the new bit to the key stream\n",
    "        key_stream.append(register[-1])  # appending the last bit generated\n",
    "        print(f\"Key stream so far: {key_stream}\\n\")\n",
    "\n",
    "    return key_stream\n",
    "\n",
    "\n",
    "# Example usage:\n",
    "seed = [0, 1, 1, 1]  # Initial seed (corresponding to the example in the image)\n",
    "taps = [0, 3]  # XOR taps for generating the feedback (S0 and S3)\n",
    "length = 10  # Length of key stream to generate\n",
    "\n",
    "key_stream = lfsr_with_var_names(seed, taps, length)\n",
    "print(f\"Generated key stream: {key_stream}\")\n"
   ],
   "id": "94610f285d898fb5",
   "outputs": [
    {
     "name": "stdout",
     "output_type": "stream",
     "text": [
      "Initial state: s0, s1, s2, s3 = [0, 1, 1, 1]\n",
      "e_1 ^= s0 -> e_1 = 0\n",
      "e_1 ^= s3 -> e_1 = 1\n",
      "Generated e_1 = 1\n",
      "New state: s0, s1, s2, s3 = [1, 0, 1, 1]\n",
      "Key stream so far: [1]\n",
      "\n",
      "e_2 ^= s0 -> e_2 = 1\n",
      "e_2 ^= s3 -> e_2 = 0\n",
      "Generated e_2 = 0\n",
      "New state: s0, s1, s2, s3 = [0, 1, 0, 1]\n",
      "Key stream so far: [1, 1]\n",
      "\n",
      "e_3 ^= s0 -> e_3 = 0\n",
      "e_3 ^= s3 -> e_3 = 1\n",
      "Generated e_3 = 1\n",
      "New state: s0, s1, s2, s3 = [1, 0, 1, 0]\n",
      "Key stream so far: [1, 1, 0]\n",
      "\n",
      "e_4 ^= s0 -> e_4 = 1\n",
      "e_4 ^= s3 -> e_4 = 1\n",
      "Generated e_4 = 1\n",
      "New state: s0, s1, s2, s3 = [1, 1, 0, 1]\n",
      "Key stream so far: [1, 1, 0, 1]\n",
      "\n",
      "e_5 ^= s0 -> e_5 = 1\n",
      "e_5 ^= s3 -> e_5 = 0\n",
      "Generated e_5 = 0\n",
      "New state: s0, s1, s2, s3 = [0, 1, 1, 0]\n",
      "Key stream so far: [1, 1, 0, 1, 0]\n",
      "\n",
      "e_6 ^= s0 -> e_6 = 0\n",
      "e_6 ^= s3 -> e_6 = 0\n",
      "Generated e_6 = 0\n",
      "New state: s0, s1, s2, s3 = [0, 0, 1, 1]\n",
      "Key stream so far: [1, 1, 0, 1, 0, 1]\n",
      "\n",
      "e_7 ^= s0 -> e_7 = 0\n",
      "e_7 ^= s3 -> e_7 = 1\n",
      "Generated e_7 = 1\n",
      "New state: s0, s1, s2, s3 = [1, 0, 0, 1]\n",
      "Key stream so far: [1, 1, 0, 1, 0, 1, 1]\n",
      "\n",
      "e_8 ^= s0 -> e_8 = 1\n",
      "e_8 ^= s3 -> e_8 = 0\n",
      "Generated e_8 = 0\n",
      "New state: s0, s1, s2, s3 = [0, 1, 0, 0]\n",
      "Key stream so far: [1, 1, 0, 1, 0, 1, 1, 0]\n",
      "\n",
      "e_9 ^= s0 -> e_9 = 0\n",
      "e_9 ^= s3 -> e_9 = 0\n",
      "Generated e_9 = 0\n",
      "New state: s0, s1, s2, s3 = [0, 0, 1, 0]\n",
      "Key stream so far: [1, 1, 0, 1, 0, 1, 1, 0, 0]\n",
      "\n",
      "e_10 ^= s0 -> e_10 = 0\n",
      "e_10 ^= s3 -> e_10 = 0\n",
      "Generated e_10 = 0\n",
      "New state: s0, s1, s2, s3 = [0, 0, 0, 1]\n",
      "Key stream so far: [1, 1, 0, 1, 0, 1, 1, 0, 0, 1]\n",
      "\n",
      "Generated key stream: [1, 1, 0, 1, 0, 1, 1, 0, 0, 1]\n"
     ]
    }
   ],
   "execution_count": 4
  },
  {
   "metadata": {},
   "cell_type": "code",
   "outputs": [],
   "execution_count": null,
   "source": "",
   "id": "66e78e15ed1bbd"
  },
  {
   "metadata": {
    "ExecuteTime": {
     "end_time": "2024-10-02T20:50:53.756751Z",
     "start_time": "2024-10-02T20:50:43.470649Z"
    }
   },
   "cell_type": "code",
   "source": [
    "!pip install numpy matplotlib\n",
    "import matplotlib.pyplot as plt\n",
    "import numpy as np\n",
    "\n",
    "def visualize_lfsr(seed, taps, length):\n",
    "    register = seed[:]\n",
    "    key_stream = []\n",
    "\n",
    "    fig, ax = plt.subplots()\n",
    "    \n",
    "    def draw_register(register, iteration, new_bit):\n",
    "        ax.clear()\n",
    "        ax.set_xlim(0, 8)\n",
    "        ax.set_ylim(-1, 2)\n",
    "        ax.set_axis_off()\n",
    "\n",
    "        # Draw shift register boxes\n",
    "        for i in range(len(register)):\n",
    "            ax.add_patch(plt.Rectangle((i * 1.5, 0), 1, 1, fill=None, edgecolor='black'))\n",
    "            ax.text(i * 1.5 + 0.5, 0.5, f\"s{i}={register[i]}\", horizontalalignment='center', verticalalignment='center')\n",
    "\n",
    "        # Draw new bit coming in\n",
    "        ax.add_patch(plt.Rectangle((len(register) * 1.5, 0), 1, 1, fill=None, edgecolor='red'))\n",
    "        ax.text(len(register) * 1.5 + 0.5, 0.5, f\"e_{iteration}={new_bit}\", horizontalalignment='center', verticalalignment='center', color='red')\n",
    "\n",
    "        ax.text(3, -0.5, f\"Iteration {iteration}\", fontsize=12, horizontalalignment='center')\n",
    "\n",
    "        plt.pause(0.5)\n",
    "\n",
    "    for i in range(length):\n",
    "        new_bit = 0\n",
    "        for tap in taps:\n",
    "            new_bit ^= register[tap]\n",
    "\n",
    "        key_stream.append(new_bit)\n",
    "        register = [new_bit] + register[:-1]\n",
    "\n",
    "        draw_register(register, i + 1, new_bit)\n",
    "\n",
    "    plt.show()\n",
    "    return key_stream\n",
    "\n",
    "# Example usage:\n",
    "seed = [0, 1, 1, 1]  # Initial state\n",
    "taps = [0, 3]  # XOR taps (e.g., positions s0 and s3)\n",
    "length = 10  # Length of key stream to generate\n",
    "\n",
    "key_stream = visualize_lfsr(seed, taps, length)\n",
    "print(f\"Generated key stream: {key_stream}\")\n"
   ],
   "id": "e17688dd313ca65d",
   "outputs": [
    {
     "name": "stdout",
     "output_type": "stream",
     "text": [
      "Requirement already satisfied: numpy in c:\\python312\\lib\\site-packages (2.1.1)\n",
      "Requirement already satisfied: matplotlib in c:\\python312\\lib\\site-packages (3.9.2)\n",
      "Requirement already satisfied: contourpy>=1.0.1 in c:\\python312\\lib\\site-packages (from matplotlib) (1.3.0)\n",
      "Requirement already satisfied: cycler>=0.10 in c:\\python312\\lib\\site-packages (from matplotlib) (0.12.1)\n",
      "Requirement already satisfied: fonttools>=4.22.0 in c:\\python312\\lib\\site-packages (from matplotlib) (4.54.1)\n",
      "Requirement already satisfied: kiwisolver>=1.3.1 in c:\\python312\\lib\\site-packages (from matplotlib) (1.4.7)\n",
      "Requirement already satisfied: packaging>=20.0 in c:\\python312\\lib\\site-packages (from matplotlib) (24.1)\n",
      "Requirement already satisfied: pillow>=8 in c:\\python312\\lib\\site-packages (from matplotlib) (10.4.0)\n",
      "Requirement already satisfied: pyparsing>=2.3.1 in c:\\python312\\lib\\site-packages (from matplotlib) (3.1.4)\n",
      "Requirement already satisfied: python-dateutil>=2.7 in c:\\python312\\lib\\site-packages (from matplotlib) (2.9.0.post0)\n",
      "Requirement already satisfied: six>=1.5 in c:\\python312\\lib\\site-packages (from python-dateutil>=2.7->matplotlib) (1.16.0)\n"
     ]
    },
    {
     "data": {
      "text/plain": [
       "<Figure size 640x480 with 1 Axes>"
      ],
      "image/png": "[encoded data removed]"
     },
     "metadata": {},
     "output_type": "display_data"
    },
    {
     "name": "stdout",
     "output_type": "stream",
     "text": [
      "Generated key stream: [1, 0, 1, 1, 0, 0, 1, 0, 0, 0]\n"
     ]
    }
   ],
   "execution_count": 7
  },
  {
   "metadata": {},
   "cell_type": "code",
   "outputs": [],
   "execution_count": null,
   "source": "",
   "id": "87636cd41c79aef6"
  }
 ],
 "metadata": {
  "kernelspec": {
   "display_name": "Python 3",
   "language": "python",
   "name": "python3"
  },
  "language_info": {
   "codemirror_mode": {
    "name": "ipython",
    "version": 2
   },
   "file_extension": ".py",
   "mimetype": "text/x-python",
   "name": "python",
   "nbconvert_exporter": "python",
   "pygments_lexer": "ipython2",
   "version": "2.7.6"
  }
 },
 "nbformat": 4,
 "nbformat_minor": 5
}
